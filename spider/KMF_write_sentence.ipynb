{
 "cells": [
  {
   "cell_type": "markdown",
   "metadata": {},
   "source": [
    "# 考满分万能句型 数据爬取"
   ]
  },
  {
   "cell_type": "code",
   "execution_count": 82,
   "metadata": {
    "ExecuteTime": {
     "end_time": "2020-02-17T07:36:25.160524Z",
     "start_time": "2020-02-17T07:36:25.156691Z"
    }
   },
   "outputs": [],
   "source": [
    "from selenium import webdriver\n",
    "from bs4 import BeautifulSoup\n",
    "import re\n",
    "import time\n",
    "import pandas as pd"
   ]
  },
  {
   "cell_type": "code",
   "execution_count": 4,
   "metadata": {
    "ExecuteTime": {
     "end_time": "2020-02-17T06:52:48.483052Z",
     "start_time": "2020-02-17T06:52:45.623700Z"
    }
   },
   "outputs": [],
   "source": [
    "driver = webdriver.Chrome()"
   ]
  },
  {
   "cell_type": "code",
   "execution_count": 33,
   "metadata": {
    "ExecuteTime": {
     "end_time": "2020-02-17T07:05:22.470934Z",
     "start_time": "2020-02-17T07:05:22.468431Z"
    }
   },
   "outputs": [],
   "source": [
    "data = [None]*34"
   ]
  },
  {
   "cell_type": "code",
   "execution_count": 17,
   "metadata": {
    "ExecuteTime": {
     "end_time": "2020-02-17T06:58:14.212930Z",
     "start_time": "2020-02-17T06:58:14.209864Z"
    }
   },
   "outputs": [],
   "source": [
    "i = 0"
   ]
  },
  {
   "cell_type": "code",
   "execution_count": 78,
   "metadata": {
    "ExecuteTime": {
     "end_time": "2020-02-17T07:35:48.848276Z",
     "start_time": "2020-02-17T07:26:03.377823Z"
    }
   },
   "outputs": [],
   "source": [
    "for i in range(34):\n",
    "    driver.get('https://toefl.kmf.com/write/expression')\n",
    "    wp = driver.find_elements_by_class_name('writePart')[i].click()\n",
    "\n",
    "    # 进入练习\n",
    "    driver.find_elements_by_class_name('i-begin-item')[2].click()\n",
    "    driver.find_element_by_class_name('i-begin-practice').click()\n",
    "\n",
    "    wp_data = []\n",
    "    while True:\n",
    "        j = 0\n",
    "        time.sleep(1)\n",
    "        try:\n",
    "            ip = driver.find_element_by_class_name('info-entering').send_keys('a')\n",
    "        except:\n",
    "            break\n",
    "        driver.find_element_by_class_name('js-next-ans').click()\n",
    "        html = BeautifulSoup(str(driver.page_source), 'lxml')\n",
    "        zh = html.select('.course-wrap-main')[0].text.strip('\\n ）').split('（')\n",
    "        if len(zh) == 1:\n",
    "            zh = zh[0].split('(')\n",
    "        en = html.select('.reslut')[0].text\n",
    "\n",
    "        wp_data.append({\n",
    "            'zh': zh[0],\n",
    "            'tips': zh[1],\n",
    "            'en': en\n",
    "        })\n",
    "        j += 1\n",
    "        nex = driver.find_element_by_class_name('js-next-subject').click()\n",
    "\n",
    "    data[i] = wp_data"
   ]
  },
  {
   "cell_type": "code",
   "execution_count": 89,
   "metadata": {
    "ExecuteTime": {
     "end_time": "2020-02-17T07:39:14.048156Z",
     "start_time": "2020-02-17T07:39:14.043533Z"
    }
   },
   "outputs": [],
   "source": [
    "expand = []\n",
    "for i, d in enumerate(data):\n",
    "    for j, s in enumerate(d):\n",
    "        s['Unit'] = i\n",
    "        s['Index'] = j\n",
    "        s['tips'] = s['tips'].strip(')')\n",
    "        expand.append(s)"
   ]
  },
  {
   "cell_type": "code",
   "execution_count": 90,
   "metadata": {
    "ExecuteTime": {
     "end_time": "2020-02-17T07:39:16.585500Z",
     "start_time": "2020-02-17T07:39:16.581272Z"
    }
   },
   "outputs": [],
   "source": [
    "df = pd.DataFrame(expand)"
   ]
  },
  {
   "cell_type": "code",
   "execution_count": 93,
   "metadata": {
    "ExecuteTime": {
     "end_time": "2020-02-17T07:50:03.638357Z",
     "start_time": "2020-02-17T07:50:03.630945Z"
    }
   },
   "outputs": [],
   "source": [
    "df.to_csv('KMF.csv', index=False)"
   ]
  }
 ],
 "metadata": {
  "hide_input": false,
  "kernelspec": {
   "display_name": "Python 3",
   "language": "python",
   "name": "python3"
  },
  "language_info": {
   "codemirror_mode": {
    "name": "ipython",
    "version": 3
   },
   "file_extension": ".py",
   "mimetype": "text/x-python",
   "name": "python",
   "nbconvert_exporter": "python",
   "pygments_lexer": "ipython3",
   "version": "3.7.4"
  },
  "toc": {
   "base_numbering": 1,
   "nav_menu": {},
   "number_sections": true,
   "sideBar": true,
   "skip_h1_title": false,
   "title_cell": "Table of Contents",
   "title_sidebar": "Contents",
   "toc_cell": false,
   "toc_position": {},
   "toc_section_display": true,
   "toc_window_display": true
  },
  "varInspector": {
   "cols": {
    "lenName": 16,
    "lenType": 16,
    "lenVar": 40
   },
   "kernels_config": {
    "python": {
     "delete_cmd_postfix": "",
     "delete_cmd_prefix": "del ",
     "library": "var_list.py",
     "varRefreshCmd": "print(var_dic_list())"
    },
    "r": {
     "delete_cmd_postfix": ") ",
     "delete_cmd_prefix": "rm(",
     "library": "var_list.r",
     "varRefreshCmd": "cat(var_dic_list()) "
    }
   },
   "position": {
    "height": "324px",
    "left": "961px",
    "right": "20px",
    "top": "120px",
    "width": "343px"
   },
   "types_to_exclude": [
    "module",
    "function",
    "builtin_function_or_method",
    "instance",
    "_Feature"
   ],
   "window_display": true
  }
 },
 "nbformat": 4,
 "nbformat_minor": 2
}
